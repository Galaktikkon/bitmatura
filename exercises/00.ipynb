{
 "cells": [
  {
   "cell_type": "markdown",
   "id": "895443d2",
   "metadata": {},
   "source": [
    "# 👋 Introduction to Programming"
   ]
  },
  {
   "cell_type": "markdown",
   "id": "f819a2ca",
   "metadata": {},
   "source": [
    "## Exercise 1: Hello, World!"
   ]
  }
 ],
 "metadata": {
  "language_info": {
   "name": "python"
  }
 },
 "nbformat": 4,
 "nbformat_minor": 5
}
